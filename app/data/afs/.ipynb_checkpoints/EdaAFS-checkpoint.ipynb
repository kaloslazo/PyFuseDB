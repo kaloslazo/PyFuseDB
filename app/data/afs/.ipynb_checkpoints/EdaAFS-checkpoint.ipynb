{
 "cells": [
  {
   "cell_type": "markdown",
   "id": "1ca388e9-6bf5-4d1b-90a4-6348e54ac1f0",
   "metadata": {},
   "source": [
    "# **Exploración de Datos:** Audio features and lyrics of Spotify songs"
   ]
  },
  {
   "cell_type": "markdown",
   "id": "d6300da7-4915-45cb-b763-ea11a10ef348",
   "metadata": {},
   "source": [
    "## **1. Librerias**"
   ]
  },
  {
   "cell_type": "code",
   "execution_count": 22,
   "id": "fdbc7ad3-8307-4411-94bc-4ababcc9a82d",
   "metadata": {},
   "outputs": [],
   "source": [
    "import pandas as pd"
   ]
  },
  {
   "cell_type": "markdown",
   "id": "7ded9599-99f4-4348-ba2e-20313019f2e1",
   "metadata": {},
   "source": [
    "---\n",
    "## **2. Análisis de Dataset**\n",
    "### 2.1 Carga de datos"
   ]
  },
  {
   "cell_type": "code",
   "execution_count": 33,
   "id": "b6599923-c2e1-4b69-9169-71ddd106292f",
   "metadata": {},
   "outputs": [
    {
     "data": {
      "text/html": [
       "<div>\n",
       "<style scoped>\n",
       "    .dataframe tbody tr th:only-of-type {\n",
       "        vertical-align: middle;\n",
       "    }\n",
       "\n",
       "    .dataframe tbody tr th {\n",
       "        vertical-align: top;\n",
       "    }\n",
       "\n",
       "    .dataframe thead th {\n",
       "        text-align: right;\n",
       "    }\n",
       "</style>\n",
       "<table border=\"1\" class=\"dataframe\">\n",
       "  <thead>\n",
       "    <tr style=\"text-align: right;\">\n",
       "      <th></th>\n",
       "      <th>track_id</th>\n",
       "      <th>track_name</th>\n",
       "      <th>track_artist</th>\n",
       "      <th>lyrics</th>\n",
       "      <th>track_popularity</th>\n",
       "      <th>track_album_id</th>\n",
       "      <th>track_album_name</th>\n",
       "      <th>track_album_release_date</th>\n",
       "      <th>playlist_name</th>\n",
       "      <th>playlist_id</th>\n",
       "      <th>...</th>\n",
       "      <th>loudness</th>\n",
       "      <th>mode</th>\n",
       "      <th>speechiness</th>\n",
       "      <th>acousticness</th>\n",
       "      <th>instrumentalness</th>\n",
       "      <th>liveness</th>\n",
       "      <th>valence</th>\n",
       "      <th>tempo</th>\n",
       "      <th>duration_ms</th>\n",
       "      <th>language</th>\n",
       "    </tr>\n",
       "  </thead>\n",
       "  <tbody>\n",
       "    <tr>\n",
       "      <th>0</th>\n",
       "      <td>0017A6SJgTbfQVU2EtsPNo</td>\n",
       "      <td>Pangarap</td>\n",
       "      <td>Barbie's Cradle</td>\n",
       "      <td>Minsan pa Nang ako'y napalingon Hindi ko alam ...</td>\n",
       "      <td>41</td>\n",
       "      <td>1srJQ0njEQgd8w4XSqI4JQ</td>\n",
       "      <td>Trip</td>\n",
       "      <td>2001-01-01</td>\n",
       "      <td>Pinoy Classic Rock</td>\n",
       "      <td>37i9dQZF1DWYDQ8wBxd7xt</td>\n",
       "      <td>...</td>\n",
       "      <td>-10.068</td>\n",
       "      <td>1</td>\n",
       "      <td>0.0236</td>\n",
       "      <td>0.279</td>\n",
       "      <td>0.0117</td>\n",
       "      <td>0.0887</td>\n",
       "      <td>0.566</td>\n",
       "      <td>97.091</td>\n",
       "      <td>235440</td>\n",
       "      <td>tl</td>\n",
       "    </tr>\n",
       "  </tbody>\n",
       "</table>\n",
       "<p>1 rows × 25 columns</p>\n",
       "</div>"
      ],
      "text/plain": [
       "                 track_id track_name     track_artist  \\\n",
       "0  0017A6SJgTbfQVU2EtsPNo   Pangarap  Barbie's Cradle   \n",
       "\n",
       "                                              lyrics  track_popularity  \\\n",
       "0  Minsan pa Nang ako'y napalingon Hindi ko alam ...                41   \n",
       "\n",
       "           track_album_id track_album_name track_album_release_date  \\\n",
       "0  1srJQ0njEQgd8w4XSqI4JQ             Trip               2001-01-01   \n",
       "\n",
       "        playlist_name             playlist_id  ... loudness mode  speechiness  \\\n",
       "0  Pinoy Classic Rock  37i9dQZF1DWYDQ8wBxd7xt  ...  -10.068    1       0.0236   \n",
       "\n",
       "   acousticness  instrumentalness  liveness  valence   tempo  duration_ms  \\\n",
       "0         0.279            0.0117    0.0887    0.566  97.091       235440   \n",
       "\n",
       "   language  \n",
       "0        tl  \n",
       "\n",
       "[1 rows x 25 columns]"
      ]
     },
     "execution_count": 33,
     "metadata": {},
     "output_type": "execute_result"
    }
   ],
   "source": [
    "dataPath = \"./spotify_songs.csv\"\n",
    "dataset = pd.read_csv(dataPath)\n",
    "\n",
    "dataset.head(1)"
   ]
  },
  {
   "cell_type": "markdown",
   "id": "01e39756-9820-4941-9cf7-f9e8d64fe0cd",
   "metadata": {},
   "source": [
    "### 2.2 Features disponibles"
   ]
  },
  {
   "cell_type": "code",
   "execution_count": 24,
   "id": "fef4124a-07a3-456b-816f-a0e10e0db404",
   "metadata": {},
   "outputs": [
    {
     "name": "stdout",
     "output_type": "stream",
     "text": [
      "Filas:18454\n",
      "Columnas:25\n",
      "\n",
      "['track_id' 'track_name' 'track_artist' 'lyrics' 'track_popularity'\n",
      " 'track_album_id' 'track_album_name' 'track_album_release_date'\n",
      " 'playlist_name' 'playlist_id' 'playlist_genre' 'playlist_subgenre'\n",
      " 'danceability' 'energy' 'key' 'loudness' 'mode' 'speechiness'\n",
      " 'acousticness' 'instrumentalness' 'liveness' 'valence' 'tempo'\n",
      " 'duration_ms' 'language']\n"
     ]
    }
   ],
   "source": [
    "print(f\"Filas:{dataset.shape[0]}\\nColumnas:{dataset.shape[1]}\\n\")\n",
    "print(dataset.columns.values)"
   ]
  },
  {
   "cell_type": "markdown",
   "id": "77d360a9-7cc7-46dd-b9e1-25ccc6e75613",
   "metadata": {},
   "source": [
    "### 2.3 Features categóricas"
   ]
  },
  {
   "cell_type": "code",
   "execution_count": 25,
   "id": "a543d953-31e0-4edd-b5ed-dc0a88301a94",
   "metadata": {},
   "outputs": [
    {
     "name": "stdout",
     "output_type": "stream",
     "text": [
      "['track_id' 'track_name' 'track_artist' 'lyrics' 'track_album_id'\n",
      " 'track_album_name' 'track_album_release_date' 'playlist_name'\n",
      " 'playlist_id' 'playlist_genre' 'playlist_subgenre' 'language']\n"
     ]
    }
   ],
   "source": [
    "print(dataset.select_dtypes(include = [\"object\"]).columns.values)"
   ]
  },
  {
   "cell_type": "markdown",
   "id": "add9b74f-297e-4ea3-a6d6-097e3431a92b",
   "metadata": {},
   "source": [
    "### 2.4 Features numéricas"
   ]
  },
  {
   "cell_type": "code",
   "execution_count": 26,
   "id": "b907cfcf-2179-4fd9-86e5-a4e495daca52",
   "metadata": {},
   "outputs": [
    {
     "name": "stdout",
     "output_type": "stream",
     "text": [
      "['track_popularity' 'danceability' 'energy' 'key' 'loudness' 'mode'\n",
      " 'speechiness' 'acousticness' 'instrumentalness' 'liveness' 'valence'\n",
      " 'tempo' 'duration_ms']\n"
     ]
    }
   ],
   "source": [
    "print(dataset.select_dtypes(exclude = [\"object\"]).columns.values)"
   ]
  },
  {
   "cell_type": "markdown",
   "id": "d422ce13-2d4b-417b-839f-eb57cb5843e2",
   "metadata": {},
   "source": [
    "### 2.5 Valores nulos"
   ]
  },
  {
   "cell_type": "code",
   "execution_count": 29,
   "id": "06dd12dc-9727-4f4e-930f-c2a11e2bf99f",
   "metadata": {},
   "outputs": [
    {
     "name": "stdout",
     "output_type": "stream",
     "text": [
      "Valores nulos de dataset con tamaño (18454, 25)\n",
      "Valores nulos de dataset limpio con tamaño (18194, 25)\n",
      "Se eliminaron 260 filas\n"
     ]
    }
   ],
   "source": [
    "print(f\"Valores nulos de dataset con tamaño {dataset.shape}\")\n",
    "prevDatasetRows = dataset.shape[0]\n",
    "\n",
    "dataset = dataset.dropna()\n",
    "\n",
    "print(f\"Valores nulos de dataset limpio con tamaño {dataset.shape}\")\n",
    "print(f\"Se eliminaron {prevDatasetRows - dataset.shape[0]} filas\")"
   ]
  },
  {
   "cell_type": "markdown",
   "id": "923095b7-df41-4769-b743-d040495ebaa4",
   "metadata": {},
   "source": [
    "## **3. Análisis de columnas fundamentales**\n",
    "\n",
    "Dado que dentro de las features categóricas, existe una columna lyrics que da información acerca de la letra de canción, es un correcto candidato para poner a prueba nuestro índice invertido que aplica similitud del coseno por medio de una búsqueda en lenguaje natural"
   ]
  },
  {
   "cell_type": "markdown",
   "id": "590f4004-4ca4-41b2-ae1c-41154c407eb3",
   "metadata": {},
   "source": [
    "### 3.1 Nuevo dataset"
   ]
  },
  {
   "cell_type": "code",
   "execution_count": 50,
   "id": "857efbe6-fd53-4924-9497-3900853f4b23",
   "metadata": {},
   "outputs": [
    {
     "data": {
      "text/html": [
       "<div>\n",
       "<style scoped>\n",
       "    .dataframe tbody tr th:only-of-type {\n",
       "        vertical-align: middle;\n",
       "    }\n",
       "\n",
       "    .dataframe tbody tr th {\n",
       "        vertical-align: top;\n",
       "    }\n",
       "\n",
       "    .dataframe thead th {\n",
       "        text-align: right;\n",
       "    }\n",
       "</style>\n",
       "<table border=\"1\" class=\"dataframe\">\n",
       "  <thead>\n",
       "    <tr style=\"text-align: right;\">\n",
       "      <th></th>\n",
       "      <th>track_id</th>\n",
       "      <th>track_name</th>\n",
       "      <th>track_artist</th>\n",
       "      <th>lyrics</th>\n",
       "      <th>track_album_name</th>\n",
       "      <th>playlist_name</th>\n",
       "      <th>playlist_genre</th>\n",
       "      <th>playlist_subgenre</th>\n",
       "      <th>language</th>\n",
       "    </tr>\n",
       "  </thead>\n",
       "  <tbody>\n",
       "    <tr>\n",
       "      <th>0</th>\n",
       "      <td>0017A6SJgTbfQVU2EtsPNo</td>\n",
       "      <td>Pangarap</td>\n",
       "      <td>Barbie's Cradle</td>\n",
       "      <td>Minsan pa Nang ako'y napalingon Hindi ko alam ...</td>\n",
       "      <td>Trip</td>\n",
       "      <td>Pinoy Classic Rock</td>\n",
       "      <td>rock</td>\n",
       "      <td>classic rock</td>\n",
       "      <td>tl</td>\n",
       "    </tr>\n",
       "    <tr>\n",
       "      <th>1</th>\n",
       "      <td>004s3t0ONYlzxII9PLgU6z</td>\n",
       "      <td>I Feel Alive</td>\n",
       "      <td>Steady Rollin</td>\n",
       "      <td>The trees, are singing in the wind The sky blu...</td>\n",
       "      <td>Love &amp; Loss</td>\n",
       "      <td>Hard Rock Workout</td>\n",
       "      <td>rock</td>\n",
       "      <td>hard rock</td>\n",
       "      <td>en</td>\n",
       "    </tr>\n",
       "    <tr>\n",
       "      <th>2</th>\n",
       "      <td>00chLpzhgVjxs1zKC9UScL</td>\n",
       "      <td>Poison</td>\n",
       "      <td>Bell Biv DeVoe</td>\n",
       "      <td>NA Yeah, Spyderman and Freeze in full effect U...</td>\n",
       "      <td>Gold</td>\n",
       "      <td>Back in the day - R&amp;B, New Jack Swing, Swingbe...</td>\n",
       "      <td>r&amp;b</td>\n",
       "      <td>new jack swing</td>\n",
       "      <td>en</td>\n",
       "    </tr>\n",
       "  </tbody>\n",
       "</table>\n",
       "</div>"
      ],
      "text/plain": [
       "                 track_id    track_name     track_artist  \\\n",
       "0  0017A6SJgTbfQVU2EtsPNo      Pangarap  Barbie's Cradle   \n",
       "1  004s3t0ONYlzxII9PLgU6z  I Feel Alive    Steady Rollin   \n",
       "2  00chLpzhgVjxs1zKC9UScL        Poison   Bell Biv DeVoe   \n",
       "\n",
       "                                              lyrics track_album_name  \\\n",
       "0  Minsan pa Nang ako'y napalingon Hindi ko alam ...             Trip   \n",
       "1  The trees, are singing in the wind The sky blu...      Love & Loss   \n",
       "2  NA Yeah, Spyderman and Freeze in full effect U...             Gold   \n",
       "\n",
       "                                       playlist_name playlist_genre  \\\n",
       "0                                 Pinoy Classic Rock           rock   \n",
       "1                                  Hard Rock Workout           rock   \n",
       "2  Back in the day - R&B, New Jack Swing, Swingbe...            r&b   \n",
       "\n",
       "  playlist_subgenre language  \n",
       "0      classic rock       tl  \n",
       "1         hard rock       en  \n",
       "2    new jack swing       en  "
      ]
     },
     "execution_count": 50,
     "metadata": {},
     "output_type": "execute_result"
    }
   ],
   "source": [
    "newDataset = dataset[[\n",
    "    \"track_id\",\n",
    "    \"track_name\",\n",
    "    \"track_artist\",\n",
    "    \"lyrics\",\n",
    "    \"track_album_name\",\n",
    "    \"playlist_name\",\n",
    "    \"playlist_genre\",\n",
    "    \"playlist_subgenre\",\n",
    "    \"language\"\n",
    "]]\n",
    "\n",
    "newDataset.head(3)"
   ]
  },
  {
   "cell_type": "markdown",
   "id": "b24fc1e4-7fc7-419a-b184-a0f7ca15e860",
   "metadata": {},
   "source": [
    "### 3.2 Información de la feature\n",
    "\n",
    "Se agrega una fila con todos los textos concatenados, como petición por parte de los requerimientos del proyecto"
   ]
  },
  {
   "cell_type": "code",
   "execution_count": 51,
   "id": "43fcae69-9e50-4d84-91e1-f72fd0899b10",
   "metadata": {},
   "outputs": [
    {
     "name": "stderr",
     "output_type": "stream",
     "text": [
      "/tmp/ipykernel_18572/47042771.py:12: SettingWithCopyWarning: \n",
      "A value is trying to be set on a copy of a slice from a DataFrame.\n",
      "Try using .loc[row_indexer,col_indexer] = value instead\n",
      "\n",
      "See the caveats in the documentation: https://pandas.pydata.org/pandas-docs/stable/user_guide/indexing.html#returning-a-view-versus-a-copy\n",
      "  newDataset[\"texto_concatenado\"] = dataset.apply(concatenateTextFields, axis=1)\n"
     ]
    }
   ],
   "source": [
    "def concatenateTextFields(row):\n",
    "    return ' '.join([\n",
    "        str(row['track_name']),\n",
    "        str(row['track_artist']),\n",
    "        str(row['lyrics']),\n",
    "        str(row['track_album_name']),\n",
    "        str(row['playlist_name']),\n",
    "        str(row['playlist_genre']),\n",
    "        str(row['playlist_subgenre'])\n",
    "    ])\n",
    "    \n",
    "newDataset[\"texto_concatenado\"] = dataset.apply(concatenateTextFields, axis=1)"
   ]
  },
  {
   "cell_type": "code",
   "execution_count": 52,
   "id": "b1dd004c-da81-42eb-bd10-1fd03b7a6e3f",
   "metadata": {},
   "outputs": [
    {
     "data": {
      "text/html": [
       "<div>\n",
       "<style scoped>\n",
       "    .dataframe tbody tr th:only-of-type {\n",
       "        vertical-align: middle;\n",
       "    }\n",
       "\n",
       "    .dataframe tbody tr th {\n",
       "        vertical-align: top;\n",
       "    }\n",
       "\n",
       "    .dataframe thead th {\n",
       "        text-align: right;\n",
       "    }\n",
       "</style>\n",
       "<table border=\"1\" class=\"dataframe\">\n",
       "  <thead>\n",
       "    <tr style=\"text-align: right;\">\n",
       "      <th></th>\n",
       "      <th>track_id</th>\n",
       "      <th>track_name</th>\n",
       "      <th>track_artist</th>\n",
       "      <th>lyrics</th>\n",
       "      <th>track_album_name</th>\n",
       "      <th>playlist_name</th>\n",
       "      <th>playlist_genre</th>\n",
       "      <th>playlist_subgenre</th>\n",
       "      <th>language</th>\n",
       "      <th>texto_concatenado</th>\n",
       "    </tr>\n",
       "  </thead>\n",
       "  <tbody>\n",
       "    <tr>\n",
       "      <th>0</th>\n",
       "      <td>0017A6SJgTbfQVU2EtsPNo</td>\n",
       "      <td>Pangarap</td>\n",
       "      <td>Barbie's Cradle</td>\n",
       "      <td>Minsan pa Nang ako'y napalingon Hindi ko alam ...</td>\n",
       "      <td>Trip</td>\n",
       "      <td>Pinoy Classic Rock</td>\n",
       "      <td>rock</td>\n",
       "      <td>classic rock</td>\n",
       "      <td>tl</td>\n",
       "      <td>Pangarap Barbie's Cradle Minsan pa Nang ako'y ...</td>\n",
       "    </tr>\n",
       "    <tr>\n",
       "      <th>1</th>\n",
       "      <td>004s3t0ONYlzxII9PLgU6z</td>\n",
       "      <td>I Feel Alive</td>\n",
       "      <td>Steady Rollin</td>\n",
       "      <td>The trees, are singing in the wind The sky blu...</td>\n",
       "      <td>Love &amp; Loss</td>\n",
       "      <td>Hard Rock Workout</td>\n",
       "      <td>rock</td>\n",
       "      <td>hard rock</td>\n",
       "      <td>en</td>\n",
       "      <td>I Feel Alive Steady Rollin The trees, are sing...</td>\n",
       "    </tr>\n",
       "    <tr>\n",
       "      <th>2</th>\n",
       "      <td>00chLpzhgVjxs1zKC9UScL</td>\n",
       "      <td>Poison</td>\n",
       "      <td>Bell Biv DeVoe</td>\n",
       "      <td>NA Yeah, Spyderman and Freeze in full effect U...</td>\n",
       "      <td>Gold</td>\n",
       "      <td>Back in the day - R&amp;B, New Jack Swing, Swingbe...</td>\n",
       "      <td>r&amp;b</td>\n",
       "      <td>new jack swing</td>\n",
       "      <td>en</td>\n",
       "      <td>Poison Bell Biv DeVoe NA Yeah, Spyderman and F...</td>\n",
       "    </tr>\n",
       "  </tbody>\n",
       "</table>\n",
       "</div>"
      ],
      "text/plain": [
       "                 track_id    track_name     track_artist  \\\n",
       "0  0017A6SJgTbfQVU2EtsPNo      Pangarap  Barbie's Cradle   \n",
       "1  004s3t0ONYlzxII9PLgU6z  I Feel Alive    Steady Rollin   \n",
       "2  00chLpzhgVjxs1zKC9UScL        Poison   Bell Biv DeVoe   \n",
       "\n",
       "                                              lyrics track_album_name  \\\n",
       "0  Minsan pa Nang ako'y napalingon Hindi ko alam ...             Trip   \n",
       "1  The trees, are singing in the wind The sky blu...      Love & Loss   \n",
       "2  NA Yeah, Spyderman and Freeze in full effect U...             Gold   \n",
       "\n",
       "                                       playlist_name playlist_genre  \\\n",
       "0                                 Pinoy Classic Rock           rock   \n",
       "1                                  Hard Rock Workout           rock   \n",
       "2  Back in the day - R&B, New Jack Swing, Swingbe...            r&b   \n",
       "\n",
       "  playlist_subgenre language  \\\n",
       "0      classic rock       tl   \n",
       "1         hard rock       en   \n",
       "2    new jack swing       en   \n",
       "\n",
       "                                   texto_concatenado  \n",
       "0  Pangarap Barbie's Cradle Minsan pa Nang ako'y ...  \n",
       "1  I Feel Alive Steady Rollin The trees, are sing...  \n",
       "2  Poison Bell Biv DeVoe NA Yeah, Spyderman and F...  "
      ]
     },
     "execution_count": 52,
     "metadata": {},
     "output_type": "execute_result"
    }
   ],
   "source": [
    "newDataset.head(3)"
   ]
  },
  {
   "cell_type": "code",
   "execution_count": 55,
   "id": "84108f06-df3c-48ec-aab4-10dfb51188d9",
   "metadata": {},
   "outputs": [
    {
     "name": "stdout",
     "output_type": "stream",
     "text": [
      "Dataset con texto concatenado guardado en formato .csv correctamente\n"
     ]
    }
   ],
   "source": [
    "newDataset.to_csv(\"spotifySongsTextConcatenated.csv\", index=False)\n",
    "print(\"Dataset con texto concatenado guardado en formato .csv correctamente\")"
   ]
  }
 ],
 "metadata": {
  "kernelspec": {
   "display_name": "Python 3 (ipykernel)",
   "language": "python",
   "name": "python3"
  },
  "language_info": {
   "codemirror_mode": {
    "name": "ipython",
    "version": 3
   },
   "file_extension": ".py",
   "mimetype": "text/x-python",
   "name": "python",
   "nbconvert_exporter": "python",
   "pygments_lexer": "ipython3",
   "version": "3.12.7"
  }
 },
 "nbformat": 4,
 "nbformat_minor": 5
}
